{
  "metadata": {
    "kernelspec": {
      "name": "python",
      "display_name": "Python (Pyodide)",
      "language": "python"
    },
    "language_info": {
      "codemirror_mode": {
        "name": "python",
        "version": 3
      },
      "file_extension": ".py",
      "mimetype": "text/x-python",
      "name": "python",
      "nbconvert_exporter": "python",
      "pygments_lexer": "ipython3",
      "version": "3.8"
    }
  },
  "nbformat_minor": 5,
  "nbformat": 4,
  "cells": [
    {
      "id": "84287097-38bd-4ba4-ae87-0605663fde46",
      "cell_type": "markdown",
      "source": "# Data Science Tools and Ecosystem",
      "metadata": {}
    },
    {
      "id": "e935520d-0e31-4f90-ab30-7c1eeffef2c2",
      "cell_type": "markdown",
      "source": "In this notebook, Data Science Tools and Ecosystem are summarized.",
      "metadata": {}
    },
    {
      "id": "95a458ab-dfe0-46b3-9d4c-95640f882090",
      "cell_type": "markdown",
      "source": "Some of the popular languages that Data Scientists use are:\n1. Python\n2. R\n3. SQL",
      "metadata": {}
    },
    {
      "id": "4ff48a2f-71b0-4111-90d1-1161427bd80c",
      "cell_type": "markdown",
      "source": "**Objectives:**\n- Introduce fundamental data science tools in Python.\r\n- Explore commonly used libraries for data manipulation and analysis.\r\n- Understand key machine learning frameworks for model development.\r\n- Discuss popular programming languages in the context of data science.\r\n- Highlight the importance of version control and collaboration tools in data science projects.",
      "metadata": {}
    },
    {
      "id": "e7e12a4a-68f9-4c34-8106-27d937323327",
      "cell_type": "markdown",
      "source": "Some of the commonly used libraries used by Data Scientists include:\n1. Numpy\n2. Pandas\n3. Ploty",
      "metadata": {}
    },
    {
      "id": "34605324-4928-4e2a-bb93-9f34d566c867",
      "cell_type": "markdown",
      "source": "|Data Science Tools|\n|------------------|\n|Pandas|\n|Numpy|\n|Scikit-learn|",
      "metadata": {}
    },
    {
      "id": "d2b1f8d5-a71c-48ee-b744-b6ebf0fc58c5",
      "cell_type": "markdown",
      "source": "### Below are a few examples of evaluating arithmetic expressions in Python",
      "metadata": {}
    },
    {
      "id": "465f2c20-c5ad-4d28-b6d1-c25a36d352fa",
      "cell_type": "code",
      "source": "#This a simple arithmetic expression to mutiply then add integers\nprint((3*4)+5) ",
      "metadata": {
        "trusted": true
      },
      "outputs": [
        {
          "name": "stdout",
          "text": "17\n",
          "output_type": "stream"
        }
      ],
      "execution_count": 8
    },
    {
      "id": "e6ecef86-0705-4667-808a-683318d0dcb3",
      "cell_type": "code",
      "source": " #This will convert 200 minutes to hours by diving by 60\nminutes = 200\nhours = minutes/60\nprint(hours)",
      "metadata": {
        "trusted": true
      },
      "outputs": [
        {
          "name": "stdout",
          "text": "3.3333333333333335\n",
          "output_type": "stream"
        }
      ],
      "execution_count": 11
    },
    {
      "id": "edec211c-2995-4ae0-b1dd-411c7f514824",
      "cell_type": "markdown",
      "source": "## Author\nKam",
      "metadata": {}
    }
  ]
}